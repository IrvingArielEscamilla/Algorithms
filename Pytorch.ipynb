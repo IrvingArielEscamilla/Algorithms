{
 "cells": [
  {
   "cell_type": "markdown",
   "id": "5799905e-1cd3-4331-8c51-9ca53c98f72f",
   "metadata": {},
   "source": [
    "Pytorch "
   ]
  },
  {
   "cell_type": "code",
   "execution_count": 1,
   "id": "fc37bb6c",
   "metadata": {},
   "outputs": [],
   "source": [
    "#Import libraries\n",
    "import torch\n",
    "import torch.nn as nn"
   ]
  },
  {
   "cell_type": "code",
   "execution_count": 2,
   "id": "a7dfc6ac",
   "metadata": {},
   "outputs": [],
   "source": [
    "#Define the hyperparameteers for neural network like all the layer size, batch size\n",
    "x_in, x_h,x_out,batch_size = 10,5,1,10\n"
   ]
  },
  {
   "cell_type": "code",
   "execution_count": 3,
   "id": "b7c6a322",
   "metadata": {},
   "outputs": [],
   "source": [
    "#crate dummy input to supply for the neural network\n",
    "i = torch.randn(batch_size, x_in)\n",
    "o = torch.tensor([[1.0],[0.0],[0.0],[1.0],[1.0],[1.0],[0.0],[0.0],[1.0],[1.0]])"
   ]
  },
  {
   "cell_type": "code",
   "execution_count": 4,
   "id": "50e6aa77",
   "metadata": {},
   "outputs": [],
   "source": [
    "#create sequential model using vuilt-in functions in pytorch library\n",
    "model = nn.Sequential(nn.Linear(x_in,x_h),\n",
    "                     nn.ReLU(),\n",
    "                     nn.Linear(x_h,x_out),\n",
    "                     nn.Sigmoid())"
   ]
  },
  {
   "cell_type": "code",
   "execution_count": 5,
   "id": "c825f351",
   "metadata": {},
   "outputs": [],
   "source": [
    "#construct loss function\n",
    "criterion = torch.nn.MSELoss()\n",
    "#Construct the optimizar (Stochastic Gradient Descent)\n",
    "optimizer = torch.optim.SGD(model.parameters(), lr = 0.01)\n"
   ]
  },
  {
   "cell_type": "code",
   "execution_count": 7,
   "id": "f1ec90b4",
   "metadata": {},
   "outputs": [
    {
     "name": "stdout",
     "output_type": "stream",
     "text": [
      "epoch:  49 loss: 0.2513175904750824\n"
     ]
    }
   ],
   "source": [
    "#implement gradient descent model to predict the neural network perfomrance\n",
    "#GD\n",
    "for epoch in range(50):\n",
    "    #Forward pass: Compute predicted y by passing i to the model\n",
    "    y_pred = model(i)\n",
    "    \n",
    "#Compute and print loss\n",
    "loss = criterion(y_pred, o )\n",
    "print('epoch: ', epoch, 'loss:', loss.item())\n",
    "\n",
    "#Zero gradients, perform a backward pass, and update the weights\n",
    "optimizer.zero_grad()\n",
    "\n",
    "#perfomr a backward pass (backpropagation)\n",
    "loss.backward()\n",
    "\n",
    "#Update the parameters\n",
    "optimizer.step()"
   ]
  },
  {
   "cell_type": "code",
   "execution_count": null,
   "id": "62f8104e",
   "metadata": {},
   "outputs": [],
   "source": []
  }
 ],
 "metadata": {
  "kernelspec": {
   "display_name": "Python 3",
   "language": "python",
   "name": "python3"
  },
  "language_info": {
   "codemirror_mode": {
    "name": "ipython",
    "version": 3
   },
   "file_extension": ".py",
   "mimetype": "text/x-python",
   "name": "python",
   "nbconvert_exporter": "python",
   "pygments_lexer": "ipython3",
   "version": "3.8.8"
  }
 },
 "nbformat": 4,
 "nbformat_minor": 5
}
