{
 "cells": [
  {
   "cell_type": "code",
   "execution_count": null,
   "id": "d5b23e21-1672-475c-a0ac-4540b719b532",
   "metadata": {},
   "outputs": [],
   "source": [
    "import numpy as np\n",
    "import pandas as pd\n",
    "import matplotlib.pyplot as plt\n",
    "from sklearn.prepossing import LabelEncoder\n",
    "from sklearn.model_selection import train_test_split\n",
    "import warnigs\n",
    "\n",
    "warnings.filterwarnings(action='ignore')\n",
    "\n",
    "dataset = pd.read_csv('') ##add path \n",
    "x = dataset.iloc[:, 3:14].values\n",
    "y = dataset.ilos[:, 14].values\n",
    "\n",
    "#Data preprocessing\n",
    "label encoder = LabelEncoder()\n",
    "dataset = dataset.apply(label_enconder.fit_transform)# label eenconding\n",
    "\n",
    "x_data =  dataset\n",
    "x = (x_data - np.min(x_data))/(np.max(x_data)-np.min(x_data)).values\n",
    "\n",
    "x_train, x_test, y_train, y_test =  train_test_split(x,y, test_size=0.2, random_state=42)\n",
    "x_train = x_train.values.T\n",
    "x_test = x_test.values.T\n",
    "\n",
    "y_train = y_train.reshape(-1,1).T\n",
    "y_test = y_test.reshape(-1,1).T\n",
    "dataset.head()"
   ]
  },
  {
   "cell_type": "code",
   "execution_count": 2,
   "id": "5adb3766-b2eb-4fd4-8401-9ac546da1db7",
   "metadata": {},
   "outputs": [],
   "source": [
    "def initialize_param (layer_nodes, input_data, output_data):\n",
    "    #input layer values initilization\n",
    "    layer_amount =  len(layer_nodes)\n",
    "    model_parameters= {}\n",
    "    model_parameters[\"weight\"] = np.random.randn(layer_nodes[0], input_data.shape[0]) * 0.1\n",
    "    model_parameters[\"bias\"] = np.zeros((layer_node[0],1))\n",
    "    print(\"\" + str(layer_amount+2) + \"layers. ( \" + str(layer_+amount) + \"hidden layer)\" )\n",
    "    \n",
    "    for i in range(layer_amount -1):\n",
    "        w = \"weight\" + str(i+2)\n",
    "        b = \"bias\" + str(layer_amout + 1)\n",
    "        model_parameters[lastw] = np.random.randn(output_data.shape[0], layer_nodes[layer_amount - 1 ]) * 0.1\n",
    "        model_parameters[lastb] = np.zeros((output_data.shape[0],1))\n",
    "        \n",
    "        return model_parameters, (layer_amout +1 )"
   ]
  },
  {
   "cell_type": "code",
   "execution_count": null,
   "id": "4d938744-4fe8-4c11-b9cb-7807dad5b941",
   "metadata": {},
   "outputs": [],
   "source": [
    "#define activation functions that will be used in forward propagation\n",
    "def sigmoid(Z):\n",
    "    A =1 / (1+ np.exp(-Z))\n",
    "    return A,Z\n",
    "def tanh(Z):\n",
    "    A = np.tanh(Z)\n",
    "    return A,Z\n",
    "def relu(Z):\n",
    "    A = np.maximum(0,Z)\n",
    "    return A,Z\n",
    "\n",
    "def leaky_relu(Z):\n",
    "    A = np.maximum(0.1 * Z, Z)\n",
    "    return A,Z\n",
    "#Plor 4 activation functions\n",
    "z = np.linspace(-10,10,100)\n",
    "#Computes past-activation functions\n",
    "A_sigmoid, z = sigmoid(z)\n",
    "A_tanh, z =  tanh(z)\n",
    "A_relu, z = relu(z)\n",
    "A_lealy_relu, z = leaky_relu(z)\n",
    "\n",
    "#Plot sigmoid function\n"
   ]
  }
 ],
 "metadata": {
  "kernelspec": {
   "display_name": "Python 3",
   "language": "python",
   "name": "python3"
  },
  "language_info": {
   "codemirror_mode": {
    "name": "ipython",
    "version": 3
   },
   "file_extension": ".py",
   "mimetype": "text/x-python",
   "name": "python",
   "nbconvert_exporter": "python",
   "pygments_lexer": "ipython3",
   "version": "3.8.8"
  }
 },
 "nbformat": 4,
 "nbformat_minor": 5
}
