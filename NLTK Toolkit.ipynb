{
 "cells": [
  {
   "cell_type": "markdown",
   "id": "471b0b8a",
   "metadata": {},
   "source": [
    "Stop Words- Python code to identify and remove stop words"
   ]
  },
  {
   "cell_type": "code",
   "execution_count": 1,
   "id": "21c40d80",
   "metadata": {},
   "outputs": [
    {
     "name": "stderr",
     "output_type": "stream",
     "text": [
      "[nltk_data] Downloading package stopwords to\n",
      "[nltk_data]     C:\\Users\\irving_escamilla\\AppData\\Roaming\\nltk_data...\n",
      "[nltk_data]   Package stopwords is already up-to-date!\n",
      "[nltk_data] Downloading package punkt to\n",
      "[nltk_data]     C:\\Users\\irving_escamilla\\AppData\\Roaming\\nltk_data...\n",
      "[nltk_data]   Package punkt is already up-to-date!\n"
     ]
    }
   ],
   "source": [
    "import nltk\n",
    "from nltk.corpus import stopwords\n",
    "nltk.download('stopwords')\n",
    "nltk.download('punkt')\n",
    "from nltk.tokenize import word_tokenize\n"
   ]
  },
  {
   "cell_type": "code",
   "execution_count": 2,
   "id": "ceeb6ac2",
   "metadata": {},
   "outputs": [
    {
     "name": "stdout",
     "output_type": "stream",
     "text": [
      "['i', 'me', 'my', 'myself', 'we', 'our', 'ours', 'ourselves', 'you', \"you're\", \"you've\", \"you'll\", \"you'd\", 'your', 'yours', 'yourself', 'yourselves', 'he', 'him', 'his', 'himself', 'she', \"she's\", 'her', 'hers', 'herself', 'it', \"it's\", 'its', 'itself', 'they', 'them', 'their', 'theirs', 'themselves', 'what', 'which', 'who', 'whom', 'this', 'that', \"that'll\", 'these', 'those', 'am', 'is', 'are', 'was', 'were', 'be', 'been', 'being', 'have', 'has', 'had', 'having', 'do', 'does', 'did', 'doing', 'a', 'an', 'the', 'and', 'but', 'if', 'or', 'because', 'as', 'until', 'while', 'of', 'at', 'by', 'for', 'with', 'about', 'against', 'between', 'into', 'through', 'during', 'before', 'after', 'above', 'below', 'to', 'from', 'up', 'down', 'in', 'out', 'on', 'off', 'over', 'under', 'again', 'further', 'then', 'once', 'here', 'there', 'when', 'where', 'why', 'how', 'all', 'any', 'both', 'each', 'few', 'more', 'most', 'other', 'some', 'such', 'no', 'nor', 'not', 'only', 'own', 'same', 'so', 'than', 'too', 'very', 's', 't', 'can', 'will', 'just', 'don', \"don't\", 'should', \"should've\", 'now', 'd', 'll', 'm', 'o', 're', 've', 'y', 'ain', 'aren', \"aren't\", 'couldn', \"couldn't\", 'didn', \"didn't\", 'doesn', \"doesn't\", 'hadn', \"hadn't\", 'hasn', \"hasn't\", 'haven', \"haven't\", 'isn', \"isn't\", 'ma', 'mightn', \"mightn't\", 'mustn', \"mustn't\", 'needn', \"needn't\", 'shan', \"shan't\", 'shouldn', \"shouldn't\", 'wasn', \"wasn't\", 'weren', \"weren't\", 'won', \"won't\", 'wouldn', \"wouldn't\"]\n"
     ]
    }
   ],
   "source": [
    "print(stopwords.words('english'))"
   ]
  },
  {
   "cell_type": "code",
   "execution_count": 3,
   "id": "11366bb3",
   "metadata": {},
   "outputs": [],
   "source": [
    "text = \"How an we remove unncesesary word from a sentece?\""
   ]
  },
  {
   "cell_type": "code",
   "execution_count": 4,
   "id": "e293c425",
   "metadata": {},
   "outputs": [],
   "source": [
    "text_tokenize = word_tokenize(text)"
   ]
  },
  {
   "cell_type": "code",
   "execution_count": 5,
   "id": "7cfd1e6a",
   "metadata": {},
   "outputs": [],
   "source": [
    "text_without_stopwords = [w for w in text_tokenize if not w in stopwords.words('english')]"
   ]
  },
  {
   "cell_type": "code",
   "execution_count": 6,
   "id": "97f4b664",
   "metadata": {},
   "outputs": [
    {
     "name": "stdout",
     "output_type": "stream",
     "text": [
      "['How', 'an', 'we', 'remove', 'unncesesary', 'word', 'from', 'a', 'sentece', '?']\n",
      "['How', 'remove', 'unncesesary', 'word', 'sentece', '?']\n"
     ]
    }
   ],
   "source": [
    "print(text_tokenize)\n",
    "print(text_without_stopwords)"
   ]
  },
  {
   "cell_type": "code",
   "execution_count": 7,
   "id": "f4cb61b0",
   "metadata": {},
   "outputs": [],
   "source": [
    "import re\n",
    "from nltk.tokenize import word_tokenize"
   ]
  },
  {
   "cell_type": "code",
   "execution_count": 8,
   "id": "9e756ba4",
   "metadata": {},
   "outputs": [],
   "source": [
    "text = \"from this 1 sentence, i want to remove 4 digits or 5 examples. Possible?!\""
   ]
  },
  {
   "cell_type": "code",
   "execution_count": 9,
   "id": "9a863419",
   "metadata": {},
   "outputs": [],
   "source": [
    "no_digits = re.sub(r'd+', \"\", text)"
   ]
  },
  {
   "cell_type": "code",
   "execution_count": 10,
   "id": "6c7875cd",
   "metadata": {},
   "outputs": [
    {
     "name": "stdout",
     "output_type": "stream",
     "text": [
      "from this 1 sentence, i want to remove 4 igits or 5 examples. Possible?!\n"
     ]
    }
   ],
   "source": [
    "print(no_digits)"
   ]
  },
  {
   "cell_type": "code",
   "execution_count": 11,
   "id": "b91b8102",
   "metadata": {},
   "outputs": [],
   "source": [
    "import string\n",
    "\n",
    "def rem_punkt(txt):\n",
    "    word_split = word_tokenize(txt)\n",
    "    punkt_rem = [w for w in word_split if w.lower() not in string.punctuation]\n",
    "    return \" \".join(punkt_rem)"
   ]
  },
  {
   "cell_type": "code",
   "execution_count": 12,
   "id": "a4397987",
   "metadata": {},
   "outputs": [
    {
     "data": {
      "text/plain": [
       "'from this 1 sentence i want to remove 4 digits or 5 examples Possible'"
      ]
     },
     "execution_count": 12,
     "metadata": {},
     "output_type": "execute_result"
    }
   ],
   "source": [
    "rem_punkt(text)"
   ]
  },
  {
   "cell_type": "code",
   "execution_count": null,
   "id": "0116edc8",
   "metadata": {},
   "outputs": [],
   "source": []
  }
 ],
 "metadata": {
  "kernelspec": {
   "display_name": "Python 3",
   "language": "python",
   "name": "python3"
  },
  "language_info": {
   "codemirror_mode": {
    "name": "ipython",
    "version": 3
   },
   "file_extension": ".py",
   "mimetype": "text/x-python",
   "name": "python",
   "nbconvert_exporter": "python",
   "pygments_lexer": "ipython3",
   "version": "3.8.8"
  }
 },
 "nbformat": 4,
 "nbformat_minor": 5
}
